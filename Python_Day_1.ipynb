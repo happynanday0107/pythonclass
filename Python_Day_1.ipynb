{
  "nbformat": 4,
  "nbformat_minor": 0,
  "metadata": {
    "colab": {
      "provenance": [],
      "collapsed_sections": [],
      "authorship_tag": "ABX9TyNNYZqsoKOcL/TsK+kewehB",
      "include_colab_link": true
    },
    "kernelspec": {
      "name": "python3",
      "display_name": "Python 3"
    },
    "language_info": {
      "name": "python"
    }
  },
  "cells": [
    {
      "cell_type": "markdown",
      "metadata": {
        "id": "view-in-github",
        "colab_type": "text"
      },
      "source": [
        "<a href=\"https://colab.research.google.com/github/happynanday0107/pythonclass/blob/main/Python_Day_1.ipynb\" target=\"_parent\"><img src=\"https://colab.research.google.com/assets/colab-badge.svg\" alt=\"Open In Colab\"/></a>"
      ]
    },
    {
      "cell_type": "markdown",
      "source": [
        "#01장 파이썬이란 무엇인가?\n",
        "\n",
        "1. 파이썬이란, **귀도 반 로썸** 1990년에 개발한 **인터프리터** 언어이다.\n",
        "\n",
        "  (컴퓨터 언어 2가지 : 컴파일러(덩어리째) (ex.자바(하이브리드 언어, 컴파일러 인터프리터 성향 둘다 지님),C), 인터프리터(한줄 한줄 코드를 해석해서 실행 결과를 바로 확인할 수 있는 언어) (ex.파이썬,R)\n",
        "\n",
        "2. 파이썬은 고대 신화에 나오는 동굴에 살 던 큰 뱀을 뜻한다. (파이썬 로고 : 뱀 두마리)\n",
        "\n",
        "3. 파이썬은 **교육용**으로 많이 사용되기도 하지만 **업무용**으로도 손색이 없다. \n",
        "\n",
        "4. 파이썬 언어의 특징\n",
        "  - 문법이 쉽다. \n",
        "  - 빠르게 배울 수 있다. \n",
        "  - 무료지만 강력하다. \n",
        "  - 즐거운 프로그래밍이 가능하다. \n",
        "\n",
        "5. 파이썬을 할 수 있는 것\n",
        "  - 인공지능\n",
        "  - 빅데이터\n",
        "  - 데이터베이스\n",
        "  - GUI 애플리케이션 (윈도우 앱)\n",
        "  - 웹 프로그래밍 (Flask, Django)\n",
        "  - C / C++ 결합\n",
        "  \n",
        "6. 파이썬 약점\n",
        "  - 시스템(하드웨어)와 밀접한 프로그래밍\n",
        "  - 모바일 프로그래밍\n",
        "\n",
        "7. IDE(Integrated Development Environment) 개발도구\n",
        "  - Colab\n",
        "  - Anaconda\n",
        "  - VS Code (비쥬얼 스튜디오 코드, 강력추천, 모든 언어를 완성도  있게 다룸)\n",
        "  - Pycharm (가장 유명하나 유료)\n",
        "\n",
        "8. 기타사항\n",
        "\n",
        "  - 컴퓨터 언어는 4~5개 정도는 배워야함 (언마마다 특화가 되어있으므로...) (ex. 웹개발은 자바, 빅데이터와 인공지능은 파이썬) \n",
        "  - 파이썬은 첫번째 언어로 좋음\n",
        "  - R은 딱 데이터분석만, 파이썬은 그 이상\n",
        "   - 모든 언어의 기반은 C언어(마지막에는 C,C++도 해야함, 이 계통의 끝판왕) but, 현재 C언어를 대체할 만한 언어 등장(rust)\n",
        "  - 전세계에서 가장 핫한 언어는 javascript(백엔드인 서버까지 가능, 자바와는 다른 언어, 반드시 배워야함, 난이도는 파이썬 수준), 한국에서는 Python이 핫함\n",
        "\n",
        " "
      ],
      "metadata": {
        "id": "Zw8SdCszxNvB"
      }
    },
    {
      "cell_type": "code",
      "source": [
        "print(\"Hello World!!!\")"
      ],
      "metadata": {
        "colab": {
          "base_uri": "https://localhost:8080/"
        },
        "id": "s2G3xvQ1542T",
        "outputId": "8004491a-61d8-4c09-873d-4cde396d09f4"
      },
      "execution_count": null,
      "outputs": [
        {
          "output_type": "stream",
          "name": "stdout",
          "text": [
            "Hello World!!!\n"
          ]
        }
      ]
    },
    {
      "cell_type": "markdown",
      "source": [
        "# 02장 파이썬 프로그래밍의 기초, 자료형\n",
        "\n",
        "1. 변수 \n",
        "- 숫자, 문자 등 데이터를 다룰 때 컴퓨터에서는 변수 variable을 사용하게 된다. (데이터를 넣어 작업하는 것, 컴퓨터에서 데이터를 처리하는 방법)\n",
        "- 변수(변하는 수) vs 상수(항상 일정한 수) \n"
      ],
      "metadata": {
        "id": "t6c4uGjT4ehz"
      }
    },
    {
      "cell_type": "code",
      "source": [
        "a=1\n",
        "a=2\n",
        "b=\"python\"\n",
        "b=\"java\"\n",
        "\n",
        "print(a)\n",
        "print(b)"
      ],
      "metadata": {
        "colab": {
          "base_uri": "https://localhost:8080/"
        },
        "id": "JvoIFpnM4oaD",
        "outputId": "517050aa-161c-408c-8f8b-85eac1cd6c95"
      },
      "execution_count": null,
      "outputs": [
        {
          "output_type": "stream",
          "name": "stdout",
          "text": [
            "2\n",
            "java\n"
          ]
        }
      ]
    },
    {
      "cell_type": "markdown",
      "source": [
        "2. 자료형 \n",
        " - 자료형이란, 프로그래밍에서 자료 형태로 문자/숫자...를 사용하는 것을 말한다. 프로그래밍의 핵심이자 기본이 바로 자료형이다. 자료형을 충분히 이해해야만 프로그래밍을 잘 할 수 있다.\n",
        "\n",
        " 2.1 숫자형\n",
        ": 숫자형 자료형은 숫자 형태(정수, 실수 등등)로 이루어진 자료형이다. \n",
        "(정수 1,2/ 실수 2.14, 3.84)\n",
        "\n",
        "- 정수형 (Integer)"
      ],
      "metadata": {
        "id": "9CzaAfvZ5_TW"
      }
    },
    {
      "cell_type": "code",
      "source": [
        "a=3\n",
        "b=5\n",
        "\n",
        "#print는 생략해도 출력이 되지만 정상은 print구문을 사용하는 것이다. (# : 주석, 코멘트 (cf. 자바는 //))\n",
        "print(a+b) #주석(comment)는 컴퓨터는 읽지 않는다. 코드마다 주석을 붙이는게 아주 좋은 습관임, 숙제에도 모든 코드에 주석 달아놓기\n",
        "print(a-b)\n",
        "print(a*b)\n",
        "print(a/b)"
      ],
      "metadata": {
        "colab": {
          "base_uri": "https://localhost:8080/"
        },
        "id": "qnlCfYJN65_M",
        "outputId": "92011850-0487-4cf3-8d7c-63fd687f8b35"
      },
      "execution_count": null,
      "outputs": [
        {
          "output_type": "stream",
          "name": "stdout",
          "text": [
            "8\n",
            "-2\n",
            "15\n",
            "0.6\n"
          ]
        }
      ]
    },
    {
      "cell_type": "code",
      "source": [
        "# 나머지 연산자 % (무진장 many 사용)는 몫이 아닌 나머지를 구한다. \n",
        "# 나머지 연산자를 통해 짝수, 홀수, 배수를 알아낼 수 있다. \n",
        "a=7\n",
        "b=3\n",
        "print(a%b)\n",
        "print(8%2) # 어떤 수를 2로 나눈 나머지가 1이면 항상 홀수이고, 나머지가 0이면 항상 짝수\n",
        "print(8%4) # 어떤 수를 어떤 수로 나눈 나머지가 0이면 항상 그 수의 배수이다. "
      ],
      "metadata": {
        "colab": {
          "base_uri": "https://localhost:8080/"
        },
        "id": "_uKi6ZAa7kh5",
        "outputId": "be1dc011-ac8b-4cd2-d7df-d248129c973c"
      },
      "execution_count": null,
      "outputs": [
        {
          "output_type": "stream",
          "name": "stdout",
          "text": [
            "1\n",
            "0\n",
            "0\n"
          ]
        }
      ]
    },
    {
      "cell_type": "code",
      "source": [
        "# 몫을 알고 싶으면 //\n",
        "\n",
        "print(9//2)"
      ],
      "metadata": {
        "colab": {
          "base_uri": "https://localhost:8080/"
        },
        "id": "RmyPRRsw8Jfd",
        "outputId": "a6766f1d-63d0-4898-d773-0660bc9ada0c"
      },
      "execution_count": null,
      "outputs": [
        {
          "output_type": "stream",
          "name": "stdout",
          "text": [
            "4\n"
          ]
        }
      ]
    },
    {
      "cell_type": "markdown",
      "source": [
        "2.2 문자열 자료형\n",
        ": 문자열은 문자, 단어, 문장 등으로 구성된 글자들의 집합이다. "
      ],
      "metadata": {
        "id": "ZJvQ8qe48S5g"
      }
    },
    {
      "cell_type": "code",
      "source": [
        "a = \"b\"\n",
        "b = \"hi\"\n",
        "c = \"awesome class\"\n",
        "d = \"123\"  # 숫자 123과는 다른 문자 \"123\"이다.\n",
        "\n",
        "print(a)\n",
        "print(b)\n",
        "print(c)\n",
        "print(d)\n",
        "\n",
        "# 자바 등과 같은 언어에서는 변수를 사용할 때 형까지도 지정을 해주어야만 한다. \n",
        "# char a = \"b\";\n",
        "# string b = \"Hello\";\n",
        "# int c = 5;"
      ],
      "metadata": {
        "colab": {
          "base_uri": "https://localhost:8080/"
        },
        "id": "g2hNm1IA8fu-",
        "outputId": "14170b88-a297-4b0d-8264-a6fdacf7c54d"
      },
      "execution_count": null,
      "outputs": [
        {
          "output_type": "stream",
          "name": "stdout",
          "text": [
            "b\n",
            "hi\n",
            "awesome class\n",
            "123\n"
          ]
        }
      ]
    },
    {
      "cell_type": "code",
      "source": [
        "# 파이썬에서 문자열은 \"\" 큰따옴표 '' 작은따옴표 기본적으로 동일하게 취급한다. \n",
        "\n",
        "a = \"Hello\"\n",
        "b = 'Hello'\n",
        "print(a)\n",
        "print(b)\n",
        "\n",
        "# 하지만 아래의 경우 약간 다르게 처리된다. \n",
        "\n",
        "a = 'Hello \"Austin\"'\n",
        "print(a)\n",
        "\n",
        "b = \"Hello 'Austin'\"\n",
        "print(b)\n",
        "\n",
        "# \"\"\"  \"\"\" dod string 컴퓨터도 읽는 주석인데 영향을 미치지 않는다. \n",
        "# '''  '''\n",
        "\n",
        "# 백슬래시(\\ 또는 ...)를 넣으면 기능이 무시되고 글자로만 취급된다. \n",
        "a = \"Hello \\\"Austin\\\"\"\n",
        "b = 'Hello \\'Austin\\''\n",
        "print(a)\n",
        "print(b)"
      ],
      "metadata": {
        "colab": {
          "base_uri": "https://localhost:8080/"
        },
        "id": "VN5YuWE1WVYB",
        "outputId": "35c90802-995e-4340-a2ec-643a229c2899"
      },
      "execution_count": null,
      "outputs": [
        {
          "output_type": "stream",
          "name": "stdout",
          "text": [
            "Hello\n",
            "Hello\n",
            "Hello \"Austin\"\n",
            "Hello 'Austin'\n",
            "Hello \"Austin\"\n",
            "Hello 'Austin'\n"
          ]
        }
      ]
    },
    {
      "cell_type": "code",
      "source": [
        "# 백슬래시(\\ 또는 ...)를 사용하는 것을 '이스케이프 코드'를 사용한다라고 표현한다. \n",
        "# \\'\n",
        "# \\\"\n",
        "# \\n 강제 줄바꿈\n",
        "# \\t 일정 간격 띄우기\n",
        "\n",
        "a = \"hello \\nWorld\"\n",
        "print(a)\n",
        "\n",
        "b = \"hello\\t\\t\\tWorld\"\n",
        "print(b)"
      ],
      "metadata": {
        "colab": {
          "base_uri": "https://localhost:8080/"
        },
        "id": "WeJYxUn7X5CW",
        "outputId": "95b45091-303b-4ee7-cbd3-ea5e90726629"
      },
      "execution_count": null,
      "outputs": [
        {
          "output_type": "stream",
          "name": "stdout",
          "text": [
            "hello \n",
            "World\n",
            "hello\t\t\tWorld\n"
          ]
        }
      ]
    },
    {
      "cell_type": "markdown",
      "source": [
        " 2.3 파이썬에서 아주 중요한 자료형 4가지 \n",
        "   : List (가장 많이 사용), Tuple, Dic, Set\n",
        "\n",
        "   - LIST [ ] 대괄호 : mutable 수정가능하다, indexing/slicing 가능하다, 파이썬에서 가장 많이 사용된다. \n",
        "   - Tuple ( ) 소괄호 : immutable 수정불가능하다, indexing/slicing 가능하다, 요소를 하나만 저장할 때도 쉼표를 붙인다.\n",
        "   - Dic { } 중괄호 : mutable 수정가능하다, indexing/slicing 불가능하다, 키값-밸류값 쌍으로 구성된다.\n",
        "   - Set { } 중괄호 : mutable 수정가능하다, indexing/slicing 불가능하다, 중복 값을 허용하지 않는다. "
      ],
      "metadata": {
        "id": "uSd_itL8YsQn"
      }
    },
    {
      "cell_type": "code",
      "source": [
        "# 리스트 작성\n",
        "emp1 = [ ]\n",
        "odd2 = [1,3,5,7,9]\n",
        "str3 = [\"하나\",\"둘\",\"삼\"]\n",
        "mix4 = [1,2,\"삼\"]\n",
        "\n",
        "print(emp1)\n",
        "print(odd2)\n",
        "print(str3)\n",
        "print(mix4)\n",
        "\n",
        "# 리스트에서 인덱싱 indexing (파이썬에서의 인덱싱은 0에서부터 시작한다)\n",
        "\n",
        "alist = [10,20,30,40,50]\n",
        "\n",
        "print(alist[0])\n",
        "print(alist[0]+alist[1])\n",
        "print((alist[0]+alist[1]+alist[2]+alist[3]+alist[4])/5) # 평균 #윈도우+shift+s"
      ],
      "metadata": {
        "colab": {
          "base_uri": "https://localhost:8080/"
        },
        "id": "uNNO3t7wAMAL",
        "outputId": "34a07577-aeae-43ac-c171-a858396a346b"
      },
      "execution_count": null,
      "outputs": [
        {
          "output_type": "stream",
          "name": "stdout",
          "text": [
            "[]\n",
            "[1, 3, 5, 7, 9]\n",
            "['하나', '둘', '삼']\n",
            "[1, 2, '삼']\n",
            "10\n",
            "30\n",
            "30.0\n"
          ]
        }
      ]
    },
    {
      "cell_type": "code",
      "source": [
        "# 슬라이싱 slicing 하나씩 추출하는 인덱싱과는 달리 여러개를 추출한다. \n",
        "\n",
        "blist = \"12345\"\n",
        "\n",
        "blist[0:2]  # 0부터 2미만\n",
        "blist[:3]   # 시작을 생략하면 처음부터 3미만까지 3은 포함하지 않는다. \n",
        "blist[0:]   # 마지막을 생략하면 마지막까지"
      ],
      "metadata": {
        "colab": {
          "base_uri": "https://localhost:8080/",
          "height": 35
        },
        "id": "fDImoSEBBqS8",
        "outputId": "46220ae3-422c-4b66-c7f9-1f7f113aa655"
      },
      "execution_count": null,
      "outputs": [
        {
          "output_type": "execute_result",
          "data": {
            "text/plain": [
              "'12345'"
            ],
            "application/vnd.google.colaboratory.intrinsic+json": {
              "type": "string"
            }
          },
          "metadata": {},
          "execution_count": 14
        }
      ]
    },
    {
      "cell_type": "code",
      "source": [
        "# 리스트에서의 연산 \n",
        " \n",
        "# 리스트 더하기 (리스트들의 연결된 합으로 나타난다.)\n",
        "\n",
        "alist = [1,2,3,4,5]\n",
        "blist = [6,7,8,9,10]\n",
        "\n",
        "print(alist+blist)\n",
        "\n",
        "# 리스트 곱하기 (리스트들을 반복하여 연결된 합으로 나타난다.)\n",
        "\n",
        "print(alist*3)\n",
        "\n",
        "# 리스트의 갯수 구하기 \n",
        "print(len(blist))\n"
      ],
      "metadata": {
        "colab": {
          "base_uri": "https://localhost:8080/"
        },
        "id": "c_1ChTpkCqDF",
        "outputId": "73d5061c-c94b-4d5e-fc33-4c4153c492df"
      },
      "execution_count": null,
      "outputs": [
        {
          "output_type": "stream",
          "name": "stdout",
          "text": [
            "[1, 2, 3, 4, 5, 6, 7, 8, 9, 10]\n",
            "[1, 2, 3, 4, 5, 1, 2, 3, 4, 5, 1, 2, 3, 4, 5]\n",
            "5\n"
          ]
        }
      ]
    },
    {
      "cell_type": "code",
      "source": [
        "# 리스트의 수정 mutable\n",
        "\n",
        "alist = [1,2,3,4,5]\n",
        "alist[2] = 0\n",
        "print(alist)\n",
        "\n",
        "# 리스트의 삭제 mutable\n",
        "\n",
        "del alist[2]\n",
        "print(alist)"
      ],
      "metadata": {
        "colab": {
          "base_uri": "https://localhost:8080/"
        },
        "id": "nI8mnP4IEVGq",
        "outputId": "70e2126d-76e7-4a05-87a0-c81219f76a76"
      },
      "execution_count": null,
      "outputs": [
        {
          "output_type": "stream",
          "name": "stdout",
          "text": [
            "[1, 2, 0, 4, 5]\n",
            "[1, 2, 4, 5]\n"
          ]
        }
      ]
    },
    {
      "cell_type": "code",
      "source": [
        "# 리스트에서 많이 사용되는 함수들\n",
        "\n",
        "# append - 리스트에 요소를 추가하는 기능\n",
        "alist = [1,2,3,4,5]\n",
        "alist.append(6)\n",
        "print(\"리스트에 요소를 추가하면\", alist,\"입니다\")\n",
        "\n",
        "# sort - 리스트에서 요소들을 정렬하는 기능\n",
        "blist = [2,4,3,5,1]\n",
        "blist.sort()\n",
        "print(\"정렬하여 찍은 결과는\", blist,\"입니다\")\n",
        "\n",
        "# reverse - 리스트에서 요소들을 그대로 뒤집는 기능\n",
        "clist = [1,2,3]\n",
        "clist.reverse()\n",
        "print(\"원래 리스트를 그대로 역순으로 출력 결과는\", clist,\"입니다\")\n",
        "\n",
        "# index - 리스트에서 특정 갑의 위치를 반환하는 기능\n",
        "dlist = [1,2,3,4,5]\n",
        "print(\"숫자 2의 인덱스 값은 \", dlist.index(2), \"입니다\")\n",
        "\n",
        "# insert - 리스트의 특정 위치에 요소를 추가하는 함수 (append는 끝에 추가 insert는 어디나 추가 가능/inser보다는 append를 주로 많이 씀)\n",
        "elist = [1,2,3,4,5]\n",
        "elist.insert(0,0) # 0번째 위치에 0을 집어넣어라 (특정위치인덱스, 넣을 값)\n",
        "print(elist)\n",
        "\n",
        "# remove - 리스트에서 요소를 삭제하는 기능\n",
        "flist = [1,2,3,4,5]\n",
        "flist.remove(3) # 리스트에서 삭제할 값 입력, 같은 값이 여러개 있을 경우 처음 등장하는 값을 삭제\n",
        "print(flist)\n",
        "\n",
        "# pop - 리스트에서 마지막 요소를 제거하는 용도로 주로 쓰이지만, 특정 위치로도 삭제\n",
        "glist = [1,2,3,4,5]\n",
        "glist.pop()\n",
        "glist.pop()\n",
        "print(glist)\n",
        "glist.pop(0)\n",
        "glist.pop(0)\n",
        "\n",
        "# count - 리스트에서 요소의 개수 세기 기능\n",
        "jlist = [1,2,3,1]\n",
        "jlist.count(1)\n",
        "\n",
        "# extend (리스트의 확장) - 기존 리스트에 다른 리스트를 더하여 하나의 리스트로 만든다. \n",
        "a = [1,2,3]\n",
        "a.extend([4,5])\n",
        "print(a)"
      ],
      "metadata": {
        "colab": {
          "base_uri": "https://localhost:8080/"
        },
        "id": "o_Osa5ONC9O9",
        "outputId": "58fd6d55-be1a-4041-dcd5-3d8a7807da59"
      },
      "execution_count": null,
      "outputs": [
        {
          "output_type": "stream",
          "name": "stdout",
          "text": [
            "리스트에 요소를 추가하면 [1, 2, 3, 4, 5, 6] 입니다\n",
            "정렬하여 찍은 결과는 [1, 2, 3, 4, 5] 입니다\n",
            "원래 리스트를 그대로 역순으로 출력 결과는 [3, 2, 1] 입니다\n",
            "숫자 2의 인덱스 값은  1 입니다\n",
            "[0, 1, 2, 3, 4, 5]\n",
            "[1, 2, 4, 5]\n",
            "[1, 2, 3]\n",
            "[1, 2, 3, 4, 5]\n"
          ]
        }
      ]
    },
    {
      "cell_type": "code",
      "source": [
        "# Quix 1. 오늘자 영화 순위 1,2,3위를 리스트로 만드세요\n",
        "movielist = [\"자백\", \"리멤버\", \"블랙 아담\"]\n",
        "print(movielist)"
      ],
      "metadata": {
        "colab": {
          "base_uri": "https://localhost:8080/"
        },
        "id": "m-BvNZ0-I0xt",
        "outputId": "21a85d68-efc5-4685-df31-07e506e8c02a"
      },
      "execution_count": null,
      "outputs": [
        {
          "output_type": "stream",
          "name": "stdout",
          "text": [
            "['자백', '리멤버', '블랙 아담']\n"
          ]
        }
      ]
    },
    {
      "cell_type": "code",
      "source": [
        "# 튜플 Tuple\n",
        "\n",
        "# 튜플은 리스트와 거의 동일하지만 immutable 즉 한번 생성하면 \n",
        "# 수정도 삭제도 불가능하다는 특징이 있다. \n",
        "# (  ) 소괄호로 만든다.\n",
        "\n",
        "tuple1 = ()\n",
        "tuple2 = (1,) # 튜플은 원소 하나짜리로 만들때는 괜히 쉼표를 넣는다. \n",
        "tuple3 = (1,2,3)\n",
        "tuple4 = 1,2,3 # 튜플은 괄호를 생략 할 수 있다. \n",
        "tuple5 = (1,2,3,(4,5,6)) # 튜플 안에 튜플도 포함할 수 있다. "
      ],
      "metadata": {
        "id": "6MF35ynGK2lO"
      },
      "execution_count": null,
      "outputs": []
    },
    {
      "cell_type": "code",
      "source": [
        "tuple1 = (1,2,3,4)\n",
        "#del tuple1[0] 튜플에서는 삭제가 불가능하다. \n",
        "tuple[0] = 0 #튜플에서는 변경도 불가능하다. \n",
        "# immutable"
      ],
      "metadata": {
        "colab": {
          "base_uri": "https://localhost:8080/",
          "height": 229
        },
        "id": "YrkSk-A4LYJS",
        "outputId": "b2098739-29cf-4012-eb47-47c4435cf8c7"
      },
      "execution_count": null,
      "outputs": [
        {
          "output_type": "error",
          "ename": "TypeError",
          "evalue": "ignored",
          "traceback": [
            "\u001b[0;31m---------------------------------------------------------------------------\u001b[0m",
            "\u001b[0;31mTypeError\u001b[0m                                 Traceback (most recent call last)",
            "\u001b[0;32m<ipython-input-42-02d423eb926a>\u001b[0m in \u001b[0;36m<module>\u001b[0;34m\u001b[0m\n\u001b[1;32m      1\u001b[0m \u001b[0mtuple1\u001b[0m \u001b[0;34m=\u001b[0m \u001b[0;34m(\u001b[0m\u001b[0;36m1\u001b[0m\u001b[0;34m,\u001b[0m\u001b[0;36m2\u001b[0m\u001b[0;34m,\u001b[0m\u001b[0;36m3\u001b[0m\u001b[0;34m,\u001b[0m\u001b[0;36m4\u001b[0m\u001b[0;34m)\u001b[0m\u001b[0;34m\u001b[0m\u001b[0;34m\u001b[0m\u001b[0m\n\u001b[1;32m      2\u001b[0m \u001b[0;31m#del tuple1[0] 튜플에서는 삭제가 불가능하다.\u001b[0m\u001b[0;34m\u001b[0m\u001b[0;34m\u001b[0m\u001b[0;34m\u001b[0m\u001b[0m\n\u001b[0;32m----> 3\u001b[0;31m \u001b[0mtuple\u001b[0m\u001b[0;34m[\u001b[0m\u001b[0;36m0\u001b[0m\u001b[0;34m]\u001b[0m \u001b[0;34m=\u001b[0m \u001b[0;36m0\u001b[0m \u001b[0;31m#튜플에서는 변경도 불가능하다.\u001b[0m\u001b[0;34m\u001b[0m\u001b[0;34m\u001b[0m\u001b[0m\n\u001b[0m\u001b[1;32m      4\u001b[0m \u001b[0;31m# immutable\u001b[0m\u001b[0;34m\u001b[0m\u001b[0;34m\u001b[0m\u001b[0;34m\u001b[0m\u001b[0m\n",
            "\u001b[0;31mTypeError\u001b[0m: 'type' object does not support item assignment"
          ]
        }
      ]
    },
    {
      "cell_type": "code",
      "source": [
        "# 튜플은 인덱싱이 가능하다. \n",
        "tu1 = (1,2,3,4,5)\n",
        "\n",
        "tu1[-1] # -1은 리스트와 튜플에서 마지막 인덱스 번호이다. "
      ],
      "metadata": {
        "colab": {
          "base_uri": "https://localhost:8080/"
        },
        "id": "eWwJrO2jLt-S",
        "outputId": "234d108a-a792-4b11-eea0-b44115cf86ac"
      },
      "execution_count": null,
      "outputs": [
        {
          "output_type": "execute_result",
          "data": {
            "text/plain": [
              "5"
            ]
          },
          "metadata": {},
          "execution_count": 43
        }
      ]
    },
    {
      "cell_type": "code",
      "source": [
        "# 튜플에서 슬라이싱도 가능하다. \n",
        "tu1 = (1,2,3,4,5)\n",
        "tu1[0:3] # 두번째 숫자는 미만으로 해석된다. "
      ],
      "metadata": {
        "colab": {
          "base_uri": "https://localhost:8080/"
        },
        "id": "if1Lh9ScL7f6",
        "outputId": "039cf9cf-6325-4216-e69f-2dcdf2c4f5f3"
      },
      "execution_count": null,
      "outputs": [
        {
          "output_type": "execute_result",
          "data": {
            "text/plain": [
              "(1, 2, 3)"
            ]
          },
          "metadata": {},
          "execution_count": 45
        }
      ]
    },
    {
      "cell_type": "code",
      "source": [
        "# 튜플의 요소 갯수 \n",
        "tu1 = (1,2,3,4,5)\n",
        "print(len(tu1))"
      ],
      "metadata": {
        "colab": {
          "base_uri": "https://localhost:8080/"
        },
        "id": "g82FKvIdMItz",
        "outputId": "b6b3c7b1-5058-47e7-bbfd-92c9c6d71dfd"
      },
      "execution_count": null,
      "outputs": [
        {
          "output_type": "stream",
          "name": "stdout",
          "text": [
            "5\n"
          ]
        }
      ]
    },
    {
      "cell_type": "code",
      "source": [
        "# 딕셔너리 Dict\n",
        "\n",
        "# 이름 그대로 dictionary 사전처럼 키값:밸류값의 쌍으로 데이터가 저장되어 있는 자료형이다. \n",
        "# 리스트처럼 mutable 한 속성을 가지고 있으나 인덱싱과 슬라이싱을 지원하지 않는다. 순서가 없다. 따라서 키값으로 밸류값을 꺼낸다. "
      ],
      "metadata": {
        "id": "MkI3IceSMWyq"
      },
      "execution_count": null,
      "outputs": []
    }
  ]
}