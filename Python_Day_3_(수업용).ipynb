{
  "nbformat": 4,
  "nbformat_minor": 0,
  "metadata": {
    "colab": {
      "provenance": [],
      "authorship_tag": "ABX9TyN8XxXMadqr9CSgt+CoDMZm",
      "include_colab_link": true
    },
    "kernelspec": {
      "name": "python3",
      "display_name": "Python 3"
    },
    "language_info": {
      "name": "python"
    }
  },
  "cells": [
    {
      "cell_type": "markdown",
      "metadata": {
        "id": "view-in-github",
        "colab_type": "text"
      },
      "source": [
        "<a href=\"https://colab.research.google.com/github/happynanday0107/pythonclass/blob/main/Python_Day_3_(%EC%88%98%EC%97%85%EC%9A%A9).ipynb\" target=\"_parent\"><img src=\"https://colab.research.google.com/assets/colab-badge.svg\" alt=\"Open In Colab\"/></a>"
      ]
    },
    {
      "cell_type": "markdown",
      "source": [
        "<NFT (대체불가능 토큰)>\n",
        "\n",
        "- 민팅(NFT 판매) : 메타마스크(이더리움 wallet) 설치 (크롬 웹 스토어에서) → \n",
        "open sea(전세계에서 가장 큰 NFT 마켓)에서 판매\n",
        "\n",
        "<VS 코드> \n",
        "오늘은 파이썬 IDE 중 VS코드로 수업\n",
        "\n",
        "<확장자 : .py(python) VS .ipynb(i python notebook)>\n",
        "- .py : 1개 단위 코딩\n",
        "- .ipynb : 셀 단위 코딩\n",
        "\n",
        "<파이썬에서 웹개발> Django, Flask (함수기반임)"
      ],
      "metadata": {
        "id": "YzxKD7Txa-jw"
      }
    },
    {
      "cell_type": "code",
      "source": [],
      "metadata": {
        "id": "7jhShjMh22Qf"
      },
      "execution_count": null,
      "outputs": []
    },
    {
      "cell_type": "code",
      "source": [],
      "metadata": {
        "id": "9T-4hvtGqbLk"
      },
      "execution_count": null,
      "outputs": []
    },
    {
      "cell_type": "markdown",
      "source": [
        "#04장 프로그램의 입력과 출력은 어떻게 해야 할까? \n",
        "\n",
        "#1. 함수 Fuction\n",
        "- 수학에서의 함수와 개념이 거의 같다. 2x + 1 = y\n",
        "- 믹서기를 생각해보자. 바나나 → 바나나주스, 딸기 → 딸기주스\n",
        "\n",
        "-  프로그래밍을 하다보면 반복하여 비슷한 작업을 할 경우가 무지무지 많다. 이럴 때 함수를 사용하게 되면 불필요한 반복적인 코드의 사용을 줄일 수 있다. \n",
        "\n",
        "- 한번 작성한 코드를 다음에 나중에 다른 프로그램을 작성할 때 그대로 가져다가 사용할 수 있기 때문에 효율성을 높이는 방법으로 함수를 사용하여 다른 프로젝트에서도 재사용할 수 있다.\n",
        "\n",
        "- 함수의 기본형 \n",
        "\n",
        "  def 함수이름(변수):\n",
        "      수행구문\n",
        "\n",
        "\n",
        "\n",
        "\n",
        "\n"
      ],
      "metadata": {
        "id": "oq017Av_hQES"
      }
    },
    {
      "cell_type": "code",
      "source": [
        "print(\"hello World!!!\") # vs code IDE 첫 시작\n"
      ],
      "metadata": {
        "colab": {
          "base_uri": "https://localhost:8080/"
        },
        "id": "KmCknQWWhTBS",
        "outputId": "d8c1ed1f-a82a-4961-dcc1-1e07f4864424"
      },
      "execution_count": null,
      "outputs": [
        {
          "output_type": "stream",
          "name": "stdout",
          "text": [
            "hello World!!!\n"
          ]
        }
      ]
    },
    {
      "cell_type": "code",
      "source": [
        "# 함수의 4가지 형태 \n",
        "\n",
        "# 1 input과 output 모두 있는 형태 (가장 many 사용 형태)\n",
        "# 2 input과 output 모두 없는 형태\n",
        "# 3 input만 있는 형태\n",
        "# 4 output만 있는 형태"
      ],
      "metadata": {
        "id": "HLZd45dJrhTz"
      },
      "execution_count": null,
      "outputs": []
    },
    {
      "cell_type": "code",
      "source": [
        "# 1 input과 output 모두 있는 형태 (가장 many 사용 형태)\n",
        "\n",
        "def add(a,b):\n",
        "  return a+b\n",
        "\n",
        "print(add(1,3))"
      ],
      "metadata": {
        "colab": {
          "base_uri": "https://localhost:8080/"
        },
        "id": "FFLvLCDDqvlb",
        "outputId": "eb83f0ba-ab80-4894-fe35-50afbb9a80ed"
      },
      "execution_count": null,
      "outputs": [
        {
          "output_type": "stream",
          "name": "stdout",
          "text": [
            "4\n"
          ]
        }
      ]
    },
    {
      "cell_type": "code",
      "source": [
        "# 1 input과 output 모두 있는 형태 (가장 many 사용 형태)\n",
        "\n",
        "def add(a,b): # a와 b라는 입력\n",
        "    return(a+b) # return 이라는 키워드가 있으면 output이 존재한다. \n",
        "\n",
        "print(add(1,4))\n"
      ],
      "metadata": {
        "colab": {
          "base_uri": "https://localhost:8080/"
        },
        "id": "cQQyV8jHtBct",
        "outputId": "f8a152d3-1754-4e71-f124-051f27abb3da"
      },
      "execution_count": null,
      "outputs": [
        {
          "output_type": "stream",
          "name": "stdout",
          "text": [
            "5\n"
          ]
        }
      ]
    },
    {
      "cell_type": "code",
      "source": [
        "# 2 input과 output 모두 없는 형태\n",
        "\n",
        "\n",
        "def say(): # 괄호안에 아무런 값이 없으면 input이 없는 것이다. \n",
        "    print(\"hello\")  # return이라는 키워드가 없으면 output이 없는 것이다. 단지 hello가 나온건 찌꺼기가 나온거다. \n",
        "\n",
        "say()"
      ],
      "metadata": {
        "colab": {
          "base_uri": "https://localhost:8080/"
        },
        "id": "DjhyZvRxtxvM",
        "outputId": "58447e35-a3d9-4398-d25f-83593b5e22a1"
      },
      "execution_count": null,
      "outputs": [
        {
          "output_type": "stream",
          "name": "stdout",
          "text": [
            "hello\n"
          ]
        }
      ]
    },
    {
      "cell_type": "code",
      "source": [
        "# 3 input만 있는 형태\n",
        "\n",
        "def inputonly(name):\n",
        "    print(name, \"님 환영합니다.\") # return이 없으면 output이 없는 것이다. \n",
        "\n",
        "inputonly(\"홍길동\")"
      ],
      "metadata": {
        "colab": {
          "base_uri": "https://localhost:8080/"
        },
        "id": "85vIlHaAuJJj",
        "outputId": "58fcb502-1e28-4b4e-889b-40c606b6df4a"
      },
      "execution_count": null,
      "outputs": [
        {
          "output_type": "stream",
          "name": "stdout",
          "text": [
            "홍길동 님 환영합니다.\n"
          ]
        }
      ]
    },
    {
      "cell_type": "code",
      "source": [
        "# 4 output만 있는 형태\n",
        "\n",
        "def outputonly():\n",
        "    return \"Hello World\"\n",
        "\n",
        "outputonly()"
      ],
      "metadata": {
        "colab": {
          "base_uri": "https://localhost:8080/",
          "height": 35
        },
        "id": "gaOEpHHRvQ6U",
        "outputId": "9dcb0e5c-572a-4421-acfc-9616935b271d"
      },
      "execution_count": null,
      "outputs": [
        {
          "output_type": "execute_result",
          "data": {
            "text/plain": [
              "'Hello World'"
            ],
            "application/vnd.google.colaboratory.intrinsic+json": {
              "type": "string"
            }
          },
          "metadata": {},
          "execution_count": 7
        }
      ]
    },
    {
      "cell_type": "code",
      "source": [
        "def sumfunction1(a,b):\n",
        "    return a+b\n",
        "\n",
        "print(sumfunction1(1,2))\n",
        "\n",
        "def sumfunction1(a,b,c):\n",
        "    return a+b+c\n",
        "\n",
        "print(sumfunction1(1,2,3))\n"
      ],
      "metadata": {
        "colab": {
          "base_uri": "https://localhost:8080/"
        },
        "id": "ZvBoHr8Dv10s",
        "outputId": "4c12c161-7715-4e06-95de-aa4dc31bfbf1"
      },
      "execution_count": null,
      "outputs": [
        {
          "output_type": "stream",
          "name": "stdout",
          "text": [
            "3\n",
            "6\n"
          ]
        }
      ]
    },
    {
      "cell_type": "code",
      "source": [
        "# 함수의 인수 개수가 ~\n",
        "\n",
        "def sumfunction(*args):\n",
        "  result = 0\n",
        "  for i in args:\n",
        "    result = result + i\n",
        "  return result\n",
        "\n",
        "print(sumfunction(1,2))\n",
        "print(sumfunction(1,2,3))"
      ],
      "metadata": {
        "colab": {
          "base_uri": "https://localhost:8080/"
        },
        "id": "nIC1_9AswYRF",
        "outputId": "14bb0ef5-2d36-4dfc-e4f4-7921e4a3ac80"
      },
      "execution_count": null,
      "outputs": [
        {
          "output_type": "stream",
          "name": "stdout",
          "text": [
            "3\n",
            "6\n"
          ]
        }
      ]
    },
    {
      "cell_type": "code",
      "source": [
        "# 함수의 결과 값은 언제나 '하나'라는 특징\n",
        "\n",
        "def add_mul(a,b):\n",
        "    return a+b, a*b\n",
        "\n",
        "print(add_mul(2,3))  # 결과값 두개처럼 보이지만 튜플은 1개다. \n",
        "\n",
        "res1, res2 = add_mul(2,3)\n",
        "print(res1)\n",
        "print(res2) # 결과값 나누는 거 \n"
      ],
      "metadata": {
        "colab": {
          "base_uri": "https://localhost:8080/"
        },
        "id": "NvbFdK-6xVLt",
        "outputId": "55023dcc-ea97-4f94-fc84-267287e847fd"
      },
      "execution_count": null,
      "outputs": [
        {
          "output_type": "stream",
          "name": "stdout",
          "text": [
            "(5, 6)\n",
            "5\n",
            "6\n"
          ]
        }
      ]
    },
    {
      "cell_type": "code",
      "source": [
        "def add_mul(a,b):\n",
        "    return a+b\n",
        "    return a*b # 곱하기 결과는 수행되지 않는다. # return을 만나면 함수에서 나간다는 특징이 있다.  \n",
        "            \n",
        "res = add_mul(2,3)\n",
        "print(res)"
      ],
      "metadata": {
        "colab": {
          "base_uri": "https://localhost:8080/"
        },
        "id": "CStNALEDyTNd",
        "outputId": "86103490-d5d6-45b7-81ee-e05119d110eb"
      },
      "execution_count": null,
      "outputs": [
        {
          "output_type": "stream",
          "name": "stdout",
          "text": [
            "5\n"
          ]
        }
      ]
    },
    {
      "cell_type": "code",
      "source": [
        "# return의 마지막 특징\n",
        "\n",
        "def sayhello(name):\n",
        "    if name == \"austin\":\n",
        "        return\n",
        "    print(\"Hello\", name)\n",
        "\n",
        "sayhello(\"nick\")\n",
        "sayhello(\"austin\")\n",
        "sayhello(\"jane\")"
      ],
      "metadata": {
        "colab": {
          "base_uri": "https://localhost:8080/"
        },
        "id": "WzTgJYuKy1oF",
        "outputId": "3342d666-652d-4aad-baed-427afc13212b"
      },
      "execution_count": null,
      "outputs": [
        {
          "output_type": "stream",
          "name": "stdout",
          "text": [
            "Hello nick\n",
            "Hello jane\n"
          ]
        }
      ]
    },
    {
      "cell_type": "code",
      "source": [
        "# 매개변수에 미리 초기값을 설정하는 특징\n",
        "\n",
        "def sayname(name, age, man=True):\n",
        "    print(\"내 이름은 \", name, \"이고 나이는\", age,\"이며\", end=\" \")\n",
        "    if man:\n",
        "        print(\"남성입니다.\")\n",
        "    else:\n",
        "        print(\"여성입니다.\")\n",
        "\n",
        "sayname(\"홍길동\", 21)\n",
        "sayname(\"이몽룡\", 14, True)\n",
        "sayname(\"성춘향\", 13, False)"
      ],
      "metadata": {
        "colab": {
          "base_uri": "https://localhost:8080/"
        },
        "id": "n4Z0_ibS26rV",
        "outputId": "0d777ebc-0857-480e-e596-74a626b4ebd5"
      },
      "execution_count": null,
      "outputs": [
        {
          "output_type": "stream",
          "name": "stdout",
          "text": [
            "내 이름은  홍길동 이고 나이는 21 이며 남성입니다.\n",
            "내 이름은  이몽룡 이고 나이는 14 이며 남성입니다.\n",
            "내 이름은  성춘향 이고 나이는 13 이며 여성입니다.\n"
          ]
        }
      ]
    },
    {
      "cell_type": "code",
      "source": [
        "# 출력하는 방법 (f 스트링) (추천)\n",
        "\n",
        "name = \"홍길동\"\n",
        "age = 18\n",
        "\n",
        "print(f\"나의 이름은 {name}이고 나이는 {age}입니다.\")"
      ],
      "metadata": {
        "colab": {
          "base_uri": "https://localhost:8080/"
        },
        "id": "7GPbQkWX4FdO",
        "outputId": "700daab3-df95-42c5-bbd8-6a92d1015819"
      },
      "execution_count": null,
      "outputs": [
        {
          "output_type": "stream",
          "name": "stdout",
          "text": [
            "나의 이름은 홍길동이고 나이는 18입니다.\n"
          ]
        }
      ]
    },
    {
      "cell_type": "code",
      "source": [
        "# 함수 안에서의 변수 영향 범위 - 전역변수/지역변수 global variable/Local variable (결론은 Local variable 사용하는게 좋음)\n",
        "\n",
        "a = 1\n",
        "def varexam(a):\n",
        "    a += 1  # a= a+1   # 함수 안에서의 변수값은 함수 밖에는 전혀 영향을 미치지 않는다. \n",
        "\n",
        "varexam(a)\n",
        "print(a)"
      ],
      "metadata": {
        "colab": {
          "base_uri": "https://localhost:8080/"
        },
        "id": "eTLwPSE95ykn",
        "outputId": "f6d0081f-b4e0-4d48-aaee-c6a70ff646c9"
      },
      "execution_count": null,
      "outputs": [
        {
          "output_type": "stream",
          "name": "stdout",
          "text": [
            "1\n"
          ]
        }
      ]
    },
    {
      "cell_type": "code",
      "source": [
        "a = 1\n",
        "def varexam(a):\n",
        "    a += 1  # a= a+1   \n",
        "    return a \n",
        "\n",
        "varexam(a)\n",
        "print(a)"
      ],
      "metadata": {
        "colab": {
          "base_uri": "https://localhost:8080/"
        },
        "id": "HGtovopn7wdv",
        "outputId": "fdef2ba6-79ac-47f5-89c9-74fa3c6ee862"
      },
      "execution_count": null,
      "outputs": [
        {
          "output_type": "stream",
          "name": "stdout",
          "text": [
            "1\n"
          ]
        }
      ]
    },
    {
      "cell_type": "code",
      "source": [
        "#해결책1 지역변수\n",
        "\n",
        "a = 1\n",
        "def varexam(a):\n",
        "    a += 1  # a= a+1   \n",
        "    return a \n",
        "    \n",
        "print(varexam(a))\n",
        "print(a)"
      ],
      "metadata": {
        "colab": {
          "base_uri": "https://localhost:8080/"
        },
        "id": "LdRD6zWN8KRo",
        "outputId": "1323c791-1b56-4950-e819-b2cd7aa3bf0a"
      },
      "execution_count": null,
      "outputs": [
        {
          "output_type": "stream",
          "name": "stdout",
          "text": [
            "2\n",
            "1\n"
          ]
        }
      ]
    },
    {
      "cell_type": "code",
      "source": [
        "#해결책2 글로벌변수 (안좋은 방법, 비추, 사용하지 말라)\n",
        "\n",
        "def varexam():\n",
        "   global a #  변수 a를 함수 안에서 선언하면 전역 변수가 된다. \n",
        "   a= a + 1\n",
        "\n",
        "varexam()\n",
        "print(a)"
      ],
      "metadata": {
        "colab": {
          "base_uri": "https://localhost:8080/"
        },
        "id": "tAEn5AY28YiP",
        "outputId": "5496fa17-9c0b-4716-df90-f39f73a4e64a"
      },
      "execution_count": null,
      "outputs": [
        {
          "output_type": "stream",
          "name": "stdout",
          "text": [
            "2\n"
          ]
        }
      ]
    },
    {
      "cell_type": "code",
      "source": [
        "a = 1\n",
        "def varexam(b):\n",
        "    b += 1  \n",
        "    return b\n",
        "\n",
        "print(varexam(a))\n",
        "print(a)"
      ],
      "metadata": {
        "colab": {
          "base_uri": "https://localhost:8080/"
        },
        "id": "7m1tNlYj9Iqj",
        "outputId": "568a4261-d686-477d-e1b2-bc4b9d5bbb08"
      },
      "execution_count": null,
      "outputs": [
        {
          "output_type": "stream",
          "name": "stdout",
          "text": [
            "2\n",
            "1\n"
          ]
        }
      ]
    },
    {
      "cell_type": "code",
      "source": [
        "#<문제1> \n",
        "\n",
        "def isodd(no):\n",
        "  if no % 2 == 0:\n",
        "    print(\"짝수입니다.\")\n",
        "  else:\n",
        "    print(\"홀수입니다.\")\n",
        "\n",
        "isodd(3)\n",
        "isodd(4)"
      ],
      "metadata": {
        "colab": {
          "base_uri": "https://localhost:8080/"
        },
        "id": "jlCShJwM9cEf",
        "outputId": "875a0187-36a8-462f-92e4-1289ce9f1460"
      },
      "execution_count": null,
      "outputs": [
        {
          "output_type": "stream",
          "name": "stdout",
          "text": [
            "홀수입니다.\n",
            "짝수입니다.\n"
          ]
        }
      ]
    },
    {
      "cell_type": "code",
      "source": [
        "#<문제2>\n",
        "\n",
        "def avgnum(*args):\n",
        "    result = 0\n",
        "    for i in args:\n",
        "        result = result + i\n",
        "    return result/len(args)  #나갈 때 len()으로 나눠주기\n",
        "\n",
        "print(avgnum(1,2,3))\n",
        "print(avgnum(1,2,3,4,5))"
      ],
      "metadata": {
        "colab": {
          "base_uri": "https://localhost:8080/"
        },
        "id": "cJNqI07gQuzc",
        "outputId": "37c7c9de-70ae-404d-f608-f2f3f57403a5"
      },
      "execution_count": null,
      "outputs": [
        {
          "output_type": "stream",
          "name": "stdout",
          "text": [
            "2.0\n",
            "3.0\n"
          ]
        }
      ]
    },
    {
      "cell_type": "code",
      "source": [
        "# 입력과 출력 (앞까지...)\n",
        "\n",
        "# 파일 읽고 쓰기 (쓸일이 별로 없음) : .csv .xlsx\n",
        "\n",
        "# 새로운 txt 파일 만들기\n",
        "\n",
        "f = open(\"newfile.txt\",\"w\")\n",
        "f.close()      # 텍스트 파일 만듦 (쓸일 거의 없음)\n",
        "\n",
        "# 파일에 내용 넣기 \n",
        "\n",
        "f = open(\"newfile2.txt\",\"w\") # 새 파일 만들어서 열고\n",
        "\n",
        "for i in range(1,11):  # 파일에 여러 데이터 넣기\n",
        "  data= \"%d line. \\n\" % i\n",
        "  f.write(data)\n",
        "\n",
        "f.close()  # 파일 닫기"
      ],
      "metadata": {
        "id": "Lt8lL8ykRQw0"
      },
      "execution_count": null,
      "outputs": []
    },
    {
      "cell_type": "code",
      "source": [
        "# 파일 읽어오기\n",
        "\n",
        "f = open(\"newfile2.txt\",\"r\")\n",
        "\n",
        "while True:\n",
        "  line = f.readline()\n",
        "  if not line: break\n",
        "  print(line)\n",
        "\n",
        "f.close()"
      ],
      "metadata": {
        "id": "NmKBbziVRWJL"
      },
      "execution_count": null,
      "outputs": []
    },
    {
      "cell_type": "markdown",
      "source": [
        "#2. 객체지향프로그래밍 (OOP, Object Oriented Programming)\n",
        "\n",
        "- 클래스 class\n",
        "- 클래스로 객체를 생성한다. \n",
        "- C언어는 객체지향 언어가 아니다어도 충분히 오랜시간동안 사랑을 받아 온 언어이다. 따라서 객체지향이 프로그래밍에서의 필수 조건은 아니다. \n",
        "즉, 반드시 필요한 개념은 아니다. \n",
        "하지만... 객체지향을 사용하면 상당히 얻을 수 있는 유익이 크다. "
      ],
      "metadata": {
        "id": "0T1VwJxzVERt"
      }
    },
    {
      "cell_type": "code",
      "source": [
        "# ODP\n",
        "\n",
        "result1 = 0\n",
        "result2 = 0\n",
        "\n",
        "def add1(num):\n",
        "    global result1\n",
        "    result1 += num\n",
        "    return result1\n",
        "\n",
        "def add2(num):\n",
        "    global result2\n",
        "    result2 += num\n",
        "    return result2\n",
        "\n",
        "print(add1(3))\n",
        "print(add1(2))\n",
        "print(add2(1))\n",
        "print(add2(2))\n",
        "\n",
        "# 위와 같은 방식으로 계산기가 필요할 때 마다 새로운 코드로 생성을 하게 된다면 상당한 코드의 중복 사용은 물론 유지보수면에서도 불편함이 배가된다. "
      ],
      "metadata": {
        "colab": {
          "base_uri": "https://localhost:8080/"
        },
        "id": "WeEKicHUYVN1",
        "outputId": "8c077acd-36eb-457d-9f9a-5a6504d0bafc"
      },
      "execution_count": null,
      "outputs": [
        {
          "output_type": "stream",
          "name": "stdout",
          "text": [
            "3\n",
            "5\n",
            "1\n",
            "3\n"
          ]
        }
      ]
    },
    {
      "cell_type": "markdown",
      "source": [
        "1. 함수(function)가 클래스 안에서 구현될 때는 매서드(method)라고 부른다. \n",
        "\n",
        "2. 매서드의 매개변수 자리의 맨 앞에 self는 그 매서드를 호출한 객체의 이름이 온다. (예를 들어 아래의 예제에서 self 자리에 cal1, cal2를 부른다.)\n",
        "\n",
        "3. 생성자는 클래스로 객체를 생성할 때 자동으로 호출되는 매서드로 파이썬에서는 \n",
        "__init__으로 생성자를 만든다. \n",
        "\n",
        "4. 객체지향 속성 (상속 inheritance)  ex) 갤러그 게임\n",
        "상속은 물려받는다는 뜻으로 현실세계의 상속과 비슷한 개념이다. \n",
        "상속은 객체지향 프로그래밍에서 아주 중요한 요소이다. 특히, 파이썬은 여러 클래스에서 한 번에 상속(다중상속)을 받을 수 있는 특징이 있다. \n",
        "\n",
        "일반적으로 상속을 받은 자식 클래스가 부모 클래스 보다 많은 기능을 구현하게 된다. (부모기능 + 본인기능)\n",
        "\n",
        "5. 매서드 오버라이딩(method overriding)/매서드 오버로딩(method overloading)\n",
        "- 매서드 오버라이딩 : (덮어쓰기, 자식이기는 부모 없다.)\n",
        "부모가 가진 매서드명과 동일한 이름으로 자식 클래스에 구현을 하게되면 부모의 매서드가 실행되지 않고 자식에 구현된 매서드가 동작을 하게 된다. \n",
        "보통 부모 매서드의 기능을 보완하거나 확장하는 용도로 많이 사용된다. \n",
        "- 매서드 오버로딩 : 파이썬은 오버로딩은 지원하지 x, 자바만 지원함"
      ],
      "metadata": {
        "id": "0p4jyF86fVrj"
      }
    },
    {
      "cell_type": "code",
      "source": [
        "class Cal:\n",
        "\n",
        "    def __init__(self):  # 생성자\n",
        "        self.result = 0\n",
        "\n",
        "    def add(self,num):   # 매서드 (함수가 아닌 매서드)\n",
        "        self.result += num\n",
        "        return self.result\n",
        "\n",
        "cal1 = Cal()\n",
        "cal2 = Cal()\n",
        "cal3 = Cal()\n",
        "\n",
        "print(cal1.add(3))\n",
        "print(cal1.add(2))\n",
        "print()\n",
        "print(cal2.add(1))\n",
        "print(cal2.add(2))\n",
        "print()\n",
        "print(cal3.add(1))\n",
        "print(cal3.add(2))\n",
        "print(cal3.add(3))"
      ],
      "metadata": {
        "colab": {
          "base_uri": "https://localhost:8080/"
        },
        "id": "LQxRvSXXZdOO",
        "outputId": "38dd25dc-7834-4c33-a867-1f7c25f18fb2"
      },
      "execution_count": null,
      "outputs": [
        {
          "output_type": "stream",
          "name": "stdout",
          "text": [
            "3\n",
            "5\n",
            "\n",
            "1\n",
            "3\n",
            "\n",
            "1\n",
            "3\n",
            "6\n"
          ]
        }
      ]
    },
    {
      "cell_type": "code",
      "source": [
        "class Cal:\n",
        "  def add(self, first, second): # 함수(function)가 클래스 안에서 구현될 때는 매서드(method)라고 부른다.\n",
        "    result = first + second\n",
        "    return result\n",
        "  \n",
        "  def mul(self, first, second): # 함수(function)가 클래스 안에서 구현될 때는 매서드(method)라고 부른다.\n",
        "    result = first * second\n",
        "    return result\n",
        "\n",
        "cal1 = Cal()\n",
        "cal2 = Cal()\n",
        "\n",
        "print(cal1.add(1,2))\n",
        "print(cal2.add(2,3))\n",
        "\n",
        "print(cal1.mul(1,2))\n",
        "print(cal2.mul(2,3))"
      ],
      "metadata": {
        "colab": {
          "base_uri": "https://localhost:8080/"
        },
        "id": "kcGgEoamerRW",
        "outputId": "84cb47c3-fc8b-43bd-c452-e25bbc479b85"
      },
      "execution_count": null,
      "outputs": [
        {
          "output_type": "stream",
          "name": "stdout",
          "text": [
            "3\n",
            "5\n",
            "2\n",
            "6\n"
          ]
        }
      ]
    },
    {
      "cell_type": "code",
      "source": [
        "class Cal:\n",
        "  def setdata(self, first, second):\n",
        "    self.first = first\n",
        "    self.second = second\n",
        "\n",
        "  def add(self, first, second): # 함수(function)가 클래스 안에서 구현될 때는 매서드(method)라고 부른다.\n",
        "    result = first + second\n",
        "    return result\n",
        "  \n",
        "  def mul(self, first, second): # 함수(function)가 클래스 안에서 구현될 때는 매서드(method)라고 부른다.\n",
        "    result = first * second\n",
        "    return result\n",
        "\n",
        "cal1 = Cal()\n",
        "cal1.setdata(1,2)\n",
        "\n",
        "print(cal1.first)\n",
        "print(cal1.second)\n",
        "\n",
        "cal2 = Cal()\n",
        "cal2.setdata(3,4)\n",
        "\n",
        "print(cal2.first)\n",
        "print(cal2.second)"
      ],
      "metadata": {
        "colab": {
          "base_uri": "https://localhost:8080/"
        },
        "id": "AaOOvYOohKgh",
        "outputId": "d2511ba5-59c5-4ca5-8c7a-bbd417c4defd"
      },
      "execution_count": null,
      "outputs": [
        {
          "output_type": "stream",
          "name": "stdout",
          "text": [
            "1\n",
            "2\n",
            "3\n",
            "4\n"
          ]
        }
      ]
    },
    {
      "cell_type": "code",
      "source": [
        "class Cal:\n",
        "  def setdata(self, first, second):\n",
        "    self.first = first\n",
        "    self.second = second\n",
        "\n",
        "  def add(self): # 함수(function)가 클래스 안에서 구현될 때는 매서드(method)라고 부른다.\n",
        "    result = self.first + self.second # 호출한 객체\n",
        "    return result\n",
        "  \n",
        "  def mul(self): # 함수(function)가 클래스 안에서 구현될 때는 매서드(method)라고 부른다.\n",
        "    result = self.first * self.second # 호출한 객체\n",
        "    return result\n",
        "\n",
        "cal1 = Cal()\n",
        "cal1.setdata(1,2)\n",
        "\n",
        "print(cal1.add())\n",
        "print(cal1.mul())\n",
        "\n",
        "cal2 = Cal()\n",
        "cal2.setdata(3,4)\n",
        "\n",
        "print(cal2.add())\n",
        "print(cal2.mul())\n"
      ],
      "metadata": {
        "colab": {
          "base_uri": "https://localhost:8080/"
        },
        "id": "439T0LO5iO5g",
        "outputId": "789a0284-d171-4c1e-9c7c-c8674aa1cdac"
      },
      "execution_count": null,
      "outputs": [
        {
          "output_type": "stream",
          "name": "stdout",
          "text": [
            "3\n",
            "2\n",
            "7\n",
            "12\n"
          ]
        }
      ]
    },
    {
      "cell_type": "code",
      "source": [
        "# 3. 생성자는 클래스로 객체를 생성할 때 자동으로 호출되는 매서드로 파이썬에서는 __init__으로 생성자를 만든다. \n",
        "\n",
        "class Cal:\n",
        "  def __init__(self, first, second):  #생성자 : 객체를 찍을 때 자동으로 호출\n",
        "    self.first = first\n",
        "    self.second = second\n",
        "\n",
        "  def add(self): # 함수(function)가 클래스 안에서 구현될 때는 매서드(method)라고 부른다.\n",
        "    result = self.first + self.second # 호출한 객체\n",
        "    return result\n",
        "  \n",
        "  def mul(self): # 함수(function)가 클래스 안에서 구현될 때는 매서드(method)라고 부른다.\n",
        "    result = self.first * self.second # 호출한 객체\n",
        "    return result\n",
        "\n",
        "cal1 = Cal(1,2)\n",
        "#cal1.setdata(1,2) 필요없어짐\n",
        "\n",
        "print(cal1.add())\n",
        "print(cal1.mul())\n",
        "\n",
        "cal2 = Cal(3,4)\n",
        "#cal2.setdata(3,4) 필요없어짐\n",
        "\n",
        "print(cal2.add())\n",
        "print(cal2.mul())\n"
      ],
      "metadata": {
        "colab": {
          "base_uri": "https://localhost:8080/"
        },
        "id": "I3q9ruptjCRX",
        "outputId": "df5ddf89-2254-4e70-9ba9-a54f88697370"
      },
      "execution_count": null,
      "outputs": [
        {
          "output_type": "stream",
          "name": "stdout",
          "text": [
            "3\n",
            "2\n",
            "7\n",
            "12\n"
          ]
        }
      ]
    },
    {
      "cell_type": "code",
      "source": [
        "# 4. 객체지향 속성 (상속 inheritance) \n",
        "\n",
        "class Cal:\n",
        "  def __init__(self, first, second):  \n",
        "    self.first = first\n",
        "    self.second = second\n",
        "\n",
        "  def add(self):\n",
        "    result = self.first + self.second \n",
        "    return result\n",
        "  \n",
        "  def mul(self): \n",
        "    result = self.first * self.second \n",
        "    return result\n",
        "\n",
        "class MoreCal(Cal): # Morecal 클래스는 Cal 클래스를 상속받는다. \n",
        "  \n",
        "  def sub(self): \n",
        "    result = self.first - self.second \n",
        "    return result\n",
        "\n",
        "cal3 = MoreCal(3,2)\n",
        "cal3.add()  # 부모의 기능 상속받음\n",
        "cal3.sub()  # 본인만 가진 기능\n",
        "\n",
        "cal4 = Cal(2,1)\n",
        "cal4.add() # 본인 기능 사용가능\n",
        "cal4.sub() # 자식 기능은 사용불가"
      ],
      "metadata": {
        "colab": {
          "base_uri": "https://localhost:8080/",
          "height": 211
        },
        "id": "-nFlimzImjr6",
        "outputId": "ec913c19-9bb5-4782-f38a-cb4a3906c4b6"
      },
      "execution_count": null,
      "outputs": [
        {
          "output_type": "error",
          "ename": "AttributeError",
          "evalue": "ignored",
          "traceback": [
            "\u001b[0;31m---------------------------------------------------------------------------\u001b[0m",
            "\u001b[0;31mAttributeError\u001b[0m                            Traceback (most recent call last)",
            "\u001b[0;32m<ipython-input-84-f7eab8993f79>\u001b[0m in \u001b[0;36m<module>\u001b[0;34m\u001b[0m\n\u001b[1;32m     26\u001b[0m \u001b[0mcal4\u001b[0m \u001b[0;34m=\u001b[0m \u001b[0mCal\u001b[0m\u001b[0;34m(\u001b[0m\u001b[0;36m2\u001b[0m\u001b[0;34m,\u001b[0m\u001b[0;36m1\u001b[0m\u001b[0;34m)\u001b[0m\u001b[0;34m\u001b[0m\u001b[0;34m\u001b[0m\u001b[0m\n\u001b[1;32m     27\u001b[0m \u001b[0mcal4\u001b[0m\u001b[0;34m.\u001b[0m\u001b[0madd\u001b[0m\u001b[0;34m(\u001b[0m\u001b[0;34m)\u001b[0m \u001b[0;31m# 본인 기능 사용가능\u001b[0m\u001b[0;34m\u001b[0m\u001b[0;34m\u001b[0m\u001b[0m\n\u001b[0;32m---> 28\u001b[0;31m \u001b[0mcal4\u001b[0m\u001b[0;34m.\u001b[0m\u001b[0msub\u001b[0m\u001b[0;34m(\u001b[0m\u001b[0;34m)\u001b[0m \u001b[0;31m# 자식 기능은 사용불가\u001b[0m\u001b[0;34m\u001b[0m\u001b[0;34m\u001b[0m\u001b[0m\n\u001b[0m",
            "\u001b[0;31mAttributeError\u001b[0m: 'Cal' object has no attribute 'sub'"
          ]
        }
      ]
    },
    {
      "cell_type": "code",
      "source": [
        "#5. 매서드 오버라이딩(method overriding)\n",
        "\n",
        "class Cal:\n",
        "    def __init__(self, first, second):\n",
        "        self.first = first\n",
        "        self.second = second\n",
        "\n",
        "    def add(self):\n",
        "        result = self.first + self.second\n",
        "        return result\n",
        "\n",
        "    def mul(self):\n",
        "        result = self.first * self.second\n",
        "        return result\n",
        "\n",
        "    def div(self):\n",
        "        result = self.first / self.second\n",
        "        return result\n",
        "\n",
        "\n",
        "class MoreCal(Cal):\n",
        "    def sub(self):\n",
        "        result = self.first - self.second\n",
        "        return result\n",
        "\n",
        "    def div(self):\n",
        "        if self.second == 0:\n",
        "            return \"계산 불가입니다.\"\n",
        "        else:\n",
        "            result = self.first / self.second\n",
        "            return result\n",
        "\n",
        "cal5 = MoreCal(2,0)\n",
        "# cal3.add()\n",
        "cal5.div()"
      ],
      "metadata": {
        "colab": {
          "base_uri": "https://localhost:8080/",
          "height": 35
        },
        "id": "tokKcV4Es86i",
        "outputId": "06206263-b3df-48c7-fea8-5b14cbb5d67e"
      },
      "execution_count": null,
      "outputs": [
        {
          "output_type": "execute_result",
          "data": {
            "text/plain": [
              "'계산 불가입니다.'"
            ],
            "application/vnd.google.colaboratory.intrinsic+json": {
              "type": "string"
            }
          },
          "metadata": {},
          "execution_count": 96
        }
      ]
    },
    {
      "cell_type": "markdown",
      "source": [
        "6. 예외처리 exception ★★★★★(매우 중요)\n",
        "\n",
        "오류... 에러...가 발생했을 때 적절하게 상황에 따라 처리해 주는 것을 예외처리라고 한다. \n",
        "\n",
        "- 1개 예외처리\n",
        "try: \n",
        "  에러가 발생할수도 있을 것 같은 구문\n",
        "except: \n",
        "  에러가 발생했을 때 적용되는 구문\n",
        "\n",
        "(if, else 와 비슷한 느낌)\n",
        "\n",
        "- 여러개 예외처리\n",
        "try: \n",
        "  에러가 발생할수도 있을 것 같은 구문\n",
        "except1: \n",
        "  에러가 발생했을 때 적용되는 구문\n",
        "except2: \n",
        "  에러가 발생했을 때 적용되는 구문\n",
        "\n",
        "- full구문\n",
        "try: \n",
        "except: (문제가 있을 때만 실행되는 구문)\n",
        "else: (문제가 없을 때만 실행되는 구문)\n",
        "finally: (언제나 항상 마지막에 실행되는 구문)\n",
        "\n",
        "- 예외 회피 : 예외가 발생했을 때에 무시해 버리는 거\n",
        "(pass)\n",
        "\n",
        "- 예외를 강제로 발생시키기 \n"
      ],
      "metadata": {
        "id": "IX9J2dsrvhcW"
      }
    },
    {
      "cell_type": "code",
      "source": [
        "try: \n",
        "  4 / 0\n",
        "except:\n",
        "  print(\"에러가 발생했습니다.\")"
      ],
      "metadata": {
        "colab": {
          "base_uri": "https://localhost:8080/"
        },
        "id": "NGJkesI5xIV7",
        "outputId": "e49cf341-7588-4dd2-a510-fd1aed5ec70c"
      },
      "execution_count": null,
      "outputs": [
        {
          "output_type": "stream",
          "name": "stdout",
          "text": [
            "에러가 발생했습니다.\n"
          ]
        }
      ]
    },
    {
      "cell_type": "code",
      "source": [
        "# 1개 예외처리\n",
        "\n",
        "try: \n",
        "  print(4 / 2)\n",
        "except:\n",
        "  print(\"에러가 발생했습니다.\")\n",
        "finally: \n",
        "  print(\"프로그램을 종료합니다.\") #에러발생유무와 상관없이 항상 마지막에 실행"
      ],
      "metadata": {
        "colab": {
          "base_uri": "https://localhost:8080/"
        },
        "id": "yliJKIXKxkiD",
        "outputId": "408cc69d-e393-4e5d-fe35-3a249d44dca9"
      },
      "execution_count": null,
      "outputs": [
        {
          "output_type": "stream",
          "name": "stdout",
          "text": [
            "2.0\n",
            "프로그램을 종료합니다.\n"
          ]
        }
      ]
    },
    {
      "cell_type": "code",
      "source": [
        "try: \n",
        "  print(4 / 0)\n",
        "except:\n",
        "  print(\"에러가 발생했습니다.\")\n",
        "finally: \n",
        "  print(\"프로그램을 종료합니다.\") #에러발생유무와 상관없이 항상 마지막에 실행"
      ],
      "metadata": {
        "colab": {
          "base_uri": "https://localhost:8080/"
        },
        "id": "HpbD1Swhx3ST",
        "outputId": "31fec813-d632-4f58-ee98-0056e9fa30af"
      },
      "execution_count": null,
      "outputs": [
        {
          "output_type": "stream",
          "name": "stdout",
          "text": [
            "에러가 발생했습니다.\n",
            "프로그램을 종료합니다.\n"
          ]
        }
      ]
    },
    {
      "cell_type": "code",
      "source": [
        "# 여러 예외 처리 \n",
        "\n",
        "try:\n",
        "  a = [1,2]\n",
        "  print(a[2]) #터지는 순간 나가버린다. \n",
        "  print(4/2)\n",
        "except:\n",
        "  print(\"예외가 발생되었습니다\")"
      ],
      "metadata": {
        "colab": {
          "base_uri": "https://localhost:8080/"
        },
        "id": "86WIZVcFx_3L",
        "outputId": "0e7337a1-1c42-4e3a-a139-79cd641c27a1"
      },
      "execution_count": 109,
      "outputs": [
        {
          "output_type": "stream",
          "name": "stdout",
          "text": [
            "예외가 발생되었습니다\n"
          ]
        }
      ]
    },
    {
      "cell_type": "code",
      "source": [
        "print(4/0) #ZeroDivisionError : 에러명"
      ],
      "metadata": {
        "colab": {
          "base_uri": "https://localhost:8080/",
          "height": 174
        },
        "id": "PLXLmra8zyXC",
        "outputId": "11aef3cc-d05c-41e8-c2a1-9b6ee9ac17fa"
      },
      "execution_count": 111,
      "outputs": [
        {
          "output_type": "error",
          "ename": "ZeroDivisionError",
          "evalue": "ignored",
          "traceback": [
            "\u001b[0;31m---------------------------------------------------------------------------\u001b[0m",
            "\u001b[0;31mZeroDivisionError\u001b[0m                         Traceback (most recent call last)",
            "\u001b[0;32m<ipython-input-111-4bf1a7e4a751>\u001b[0m in \u001b[0;36m<module>\u001b[0;34m\u001b[0m\n\u001b[0;32m----> 1\u001b[0;31m \u001b[0mprint\u001b[0m\u001b[0;34m(\u001b[0m\u001b[0;36m4\u001b[0m\u001b[0;34m/\u001b[0m\u001b[0;36m0\u001b[0m\u001b[0;34m)\u001b[0m\u001b[0;34m\u001b[0m\u001b[0;34m\u001b[0m\u001b[0m\n\u001b[0m",
            "\u001b[0;31mZeroDivisionError\u001b[0m: division by zero"
          ]
        }
      ]
    },
    {
      "cell_type": "code",
      "source": [
        "a = [1, 2]\n",
        "print = a[2]  # IndexError : 에러명"
      ],
      "metadata": {
        "colab": {
          "base_uri": "https://localhost:8080/",
          "height": 193
        },
        "id": "q_AfkQJLzczi",
        "outputId": "cf6f8a94-c191-409f-ea5d-364c19897a31"
      },
      "execution_count": 110,
      "outputs": [
        {
          "output_type": "error",
          "ename": "IndexError",
          "evalue": "ignored",
          "traceback": [
            "\u001b[0;31m---------------------------------------------------------------------------\u001b[0m",
            "\u001b[0;31mIndexError\u001b[0m                                Traceback (most recent call last)",
            "\u001b[0;32m<ipython-input-110-e393d2846c89>\u001b[0m in \u001b[0;36m<module>\u001b[0;34m\u001b[0m\n\u001b[1;32m      1\u001b[0m \u001b[0ma\u001b[0m \u001b[0;34m=\u001b[0m \u001b[0;34m[\u001b[0m\u001b[0;36m1\u001b[0m\u001b[0;34m,\u001b[0m \u001b[0;36m2\u001b[0m\u001b[0;34m]\u001b[0m\u001b[0;34m\u001b[0m\u001b[0;34m\u001b[0m\u001b[0m\n\u001b[0;32m----> 2\u001b[0;31m \u001b[0mprint\u001b[0m \u001b[0;34m=\u001b[0m \u001b[0ma\u001b[0m\u001b[0;34m[\u001b[0m\u001b[0;36m2\u001b[0m\u001b[0;34m]\u001b[0m\u001b[0;34m\u001b[0m\u001b[0;34m\u001b[0m\u001b[0m\n\u001b[0m",
            "\u001b[0;31mIndexError\u001b[0m: list index out of range"
          ]
        }
      ]
    },
    {
      "cell_type": "code",
      "source": [
        "try:\n",
        "  a = [1,2]\n",
        "  print(a[0]) #터지는 순간 나가버린다. \n",
        "  print(4/0)\n",
        "\n",
        "except IndexError:\n",
        "  print(\"예외가 발생되었습니다.\")\n",
        "except ZeroDivisionError:\n",
        "  print(\"찾으시는 인덱스가 없습니다.\")"
      ],
      "metadata": {
        "colab": {
          "base_uri": "https://localhost:8080/"
        },
        "id": "wUt7XrY5z6L6",
        "outputId": "a0e7a9ce-6458-42be-b512-6fc2aa7aa7b5"
      },
      "execution_count": 120,
      "outputs": [
        {
          "output_type": "stream",
          "name": "stdout",
          "text": [
            "1\n",
            "찾으시는 인덱스가 없습니다.\n"
          ]
        }
      ]
    },
    {
      "cell_type": "code",
      "source": [
        "try:\n",
        "  a = [1,2]\n",
        "  print(a[0]) #터지는 순간 나가버린다. \n",
        "  print(4/0)\n",
        "\n",
        "except IndexError as e:\n",
        "  print(e)\n",
        "except ZeroDivisionError as e:\n",
        "  print(e)"
      ],
      "metadata": {
        "colab": {
          "base_uri": "https://localhost:8080/"
        },
        "id": "6z3iVMWi0f2q",
        "outputId": "531e21db-e119-4b9f-a8de-35b1de316952"
      },
      "execution_count": 121,
      "outputs": [
        {
          "output_type": "stream",
          "name": "stdout",
          "text": [
            "1\n",
            "division by zero\n"
          ]
        }
      ]
    },
    {
      "cell_type": "code",
      "source": [
        "try:\n",
        "  a = [1,2]\n",
        "  print(a[2]) #터지는 순간 나가버린다. \n",
        "  print(4/0)\n",
        "\n",
        "except (IndexError,ZeroDivisionError) as e:\n",
        "  print(e)\n"
      ],
      "metadata": {
        "colab": {
          "base_uri": "https://localhost:8080/"
        },
        "id": "gjLCcDSY1BY6",
        "outputId": "e6c09d3b-4782-46ff-ab9b-7ff8028e7b9a"
      },
      "execution_count": 123,
      "outputs": [
        {
          "output_type": "stream",
          "name": "stdout",
          "text": [
            "list index out of range\n"
          ]
        }
      ]
    },
    {
      "cell_type": "code",
      "source": [
        "try:\n",
        "  4 / 0\n",
        "except: # 문제가 있을 때만 실행되는 구문\n",
        "  print(\"exception !!!\")\n",
        "else:  # 문제가 없을 때만 실행되는 구문\n",
        "  print(\"no problem\")\n",
        "finally: # 언제나 항상\n",
        "  print(\"program end\")"
      ],
      "metadata": {
        "colab": {
          "base_uri": "https://localhost:8080/"
        },
        "id": "avyBZDn01X8C",
        "outputId": "0df5dee8-664b-48b8-f6d4-5e97fd1ce153"
      },
      "execution_count": 124,
      "outputs": [
        {
          "output_type": "stream",
          "name": "stdout",
          "text": [
            "exception !!!\n",
            "program end\n"
          ]
        }
      ]
    },
    {
      "cell_type": "code",
      "source": [
        "# 예외회피 (pass)\n",
        "\n",
        "try:\n",
        "  4/0\n",
        "except:\n",
        "  pass"
      ],
      "metadata": {
        "id": "IuP5Kifq2a-D"
      },
      "execution_count": 125,
      "outputs": []
    },
    {
      "cell_type": "code",
      "source": [
        "# 예외상황이 아님에도 불구하고 강제로 예외 상황 만들기\n",
        "\n",
        "class Bird:\n",
        "  def fly(self):\n",
        "    raise NotImplementedError # 그냥 에러를 띄어줌\n",
        "\n",
        "bird = Bird()\n",
        "bird.fly()\n"
      ],
      "metadata": {
        "colab": {
          "base_uri": "https://localhost:8080/",
          "height": 339
        },
        "id": "bKmEW8ts3JhH",
        "outputId": "66ebd677-17cf-499e-fc47-d3206bab813d"
      },
      "execution_count": 126,
      "outputs": [
        {
          "output_type": "error",
          "ename": "NotImplementedError",
          "evalue": "ignored",
          "traceback": [
            "\u001b[0;31m---------------------------------------------------------------------------\u001b[0m",
            "\u001b[0;31mNotImplementedError\u001b[0m                       Traceback (most recent call last)",
            "\u001b[0;32m<ipython-input-126-e34e5d85b831>\u001b[0m in \u001b[0;36m<module>\u001b[0;34m\u001b[0m\n\u001b[1;32m      6\u001b[0m \u001b[0;34m\u001b[0m\u001b[0m\n\u001b[1;32m      7\u001b[0m \u001b[0mbird\u001b[0m \u001b[0;34m=\u001b[0m \u001b[0mBird\u001b[0m\u001b[0;34m(\u001b[0m\u001b[0;34m)\u001b[0m\u001b[0;34m\u001b[0m\u001b[0;34m\u001b[0m\u001b[0m\n\u001b[0;32m----> 8\u001b[0;31m \u001b[0mbird\u001b[0m\u001b[0;34m.\u001b[0m\u001b[0mfly\u001b[0m\u001b[0;34m(\u001b[0m\u001b[0;34m)\u001b[0m\u001b[0;34m\u001b[0m\u001b[0;34m\u001b[0m\u001b[0m\n\u001b[0m",
            "\u001b[0;32m<ipython-input-126-e34e5d85b831>\u001b[0m in \u001b[0;36mfly\u001b[0;34m(self)\u001b[0m\n\u001b[1;32m      3\u001b[0m \u001b[0;32mclass\u001b[0m \u001b[0mBird\u001b[0m\u001b[0;34m:\u001b[0m\u001b[0;34m\u001b[0m\u001b[0;34m\u001b[0m\u001b[0m\n\u001b[1;32m      4\u001b[0m   \u001b[0;32mdef\u001b[0m \u001b[0mfly\u001b[0m\u001b[0;34m(\u001b[0m\u001b[0mself\u001b[0m\u001b[0;34m)\u001b[0m\u001b[0;34m:\u001b[0m\u001b[0;34m\u001b[0m\u001b[0;34m\u001b[0m\u001b[0m\n\u001b[0;32m----> 5\u001b[0;31m     \u001b[0;32mraise\u001b[0m \u001b[0mNotImplementedError\u001b[0m\u001b[0;34m\u001b[0m\u001b[0;34m\u001b[0m\u001b[0m\n\u001b[0m\u001b[1;32m      6\u001b[0m \u001b[0;34m\u001b[0m\u001b[0m\n\u001b[1;32m      7\u001b[0m \u001b[0mbird\u001b[0m \u001b[0;34m=\u001b[0m \u001b[0mBird\u001b[0m\u001b[0;34m(\u001b[0m\u001b[0;34m)\u001b[0m\u001b[0;34m\u001b[0m\u001b[0;34m\u001b[0m\u001b[0m\n",
            "\u001b[0;31mNotImplementedError\u001b[0m: "
          ]
        }
      ]
    },
    {
      "cell_type": "code",
      "source": [
        "#<문제1>\n",
        "\n",
        "class Calculator:\n",
        "    def __init__(self):\n",
        "        self.value = 0\n",
        "    \n",
        "    def add(self, val):\n",
        "        self.value += val\n",
        "\n",
        "class UpgradeCalculator(Calculator):\n",
        "    def minus(self, val):\n",
        "        self.value -= val\n",
        "\n",
        "cal = UpgradeCalculator()\n",
        "cal.add(10)\n",
        "cal.minus(7)\n",
        "\n",
        "print(cal.value)"
      ],
      "metadata": {
        "colab": {
          "base_uri": "https://localhost:8080/"
        },
        "id": "SyDWUbG76D3O",
        "outputId": "2188807c-3957-4c0c-d771-a02197a81970"
      },
      "execution_count": 127,
      "outputs": [
        {
          "output_type": "stream",
          "name": "stdout",
          "text": [
            "3\n"
          ]
        }
      ]
    },
    {
      "cell_type": "code",
      "source": [
        "#<문제2> (재확인)\n",
        "\n",
        "class Calculator:\n",
        "    def __init__(self):\n",
        "        self.value = 0\n",
        "    \n",
        "    def add(self, val):\n",
        "        self.value += val\n",
        "        if self.value > 100:\n",
        "            self.value = 100\n",
        "\n",
        "class MaxLimitCalculator(Calculator):\n",
        "    def add (self, val):\n",
        "        self.value += val\n",
        "         if val > 100:\n",
        "           print(100)\n",
        "         else:\n",
        "\n",
        "        \n",
        "\n",
        "cal = MaxLimitCalculator()\n",
        "cal.add(50)\n",
        "cal.add(60)\n",
        "\n",
        "print(cal.value)\n"
      ],
      "metadata": {
        "colab": {
          "base_uri": "https://localhost:8080/",
          "height": 137
        },
        "id": "qR20Ax4F9LUV",
        "outputId": "17d64151-403d-4ae8-c8c9-c5481f0da299"
      },
      "execution_count": 128,
      "outputs": [
        {
          "output_type": "error",
          "ename": "IndentationError",
          "evalue": "ignored",
          "traceback": [
            "\u001b[0;36m  File \u001b[0;32m\"<ipython-input-128-05f9bc077381>\"\u001b[0;36m, line \u001b[0;32m15\u001b[0m\n\u001b[0;31m    if val > 100:\u001b[0m\n\u001b[0m    ^\u001b[0m\n\u001b[0;31mIndentationError\u001b[0m\u001b[0;31m:\u001b[0m unexpected indent\n"
          ]
        }
      ]
    }
  ]
}